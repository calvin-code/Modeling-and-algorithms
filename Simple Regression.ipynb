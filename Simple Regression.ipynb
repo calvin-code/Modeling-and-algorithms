{
  "nbformat": 4,
  "nbformat_minor": 0,
  "metadata": {
    "colab": {
      "provenance": []
    },
    "kernelspec": {
      "name": "python3",
      "display_name": "Python 3"
    },
    "language_info": {
      "name": "python"
    }
  },
  "cells": [
    {
      "cell_type": "code",
      "execution_count": 1,
      "metadata": {
        "colab": {
          "base_uri": "https://localhost:8080/"
        },
        "id": "Q7THHgMNdnPs",
        "outputId": "f858f7bb-948c-4743-df04-05c239313103"
      },
      "outputs": [
        {
          "output_type": "stream",
          "name": "stdout",
          "text": [
            "Intercept: 3.4920634920634925\n",
            "Coefficient: 0.5079365079365079\n",
            "\n",
            "Linear Regression Results:\n",
            "Mean Squared Error: 2.0486772486772487\n",
            "R-squared Score: 0.2973286875725901\n"
          ]
        }
      ],
      "source": [
        "import pandas\n",
        "from sklearn.linear_model import LinearRegression\n",
        "from sklearn.metrics import mean_squared_error, r2_score\n",
        "data = {'Time_Spent_Gaming': [4, 9, 8, 6, 4, 5, 4, 4, 2, 5, 7, 7, 3, 5, 5],\n",
        "        'Creativity_Level': [8, 7, 9, 5, 6, 7, 5, 6, 3, 4, 9, 6, 6, 7, 4]}\n",
        "myFrame = pandas.DataFrame(data)\n",
        "X = myFrame['Time_Spent_Gaming'].values.reshape(-1, 1)\n",
        "y = myFrame['Creativity_Level'].values\n",
        "model = LinearRegression()\n",
        "model.fit(X, y)\n",
        "print(\"Intercept:\", model.intercept_)\n",
        "print(\"Coefficient:\", model.coef_[0])\n",
        "\n",
        "y_pred = model.predict(X)\n",
        "mse = mean_squared_error(y, y_pred)\n",
        "r2 = r2_score(y, y_pred)\n",
        "print(\"\\nLinear Regression Results:\")\n",
        "print(\"Mean Squared Error:\", mse)\n",
        "print(\"R-squared Score:\", r2)\n"
      ]
    },
    {
      "cell_type": "code",
      "source": [
        "import pandas\n",
        "from scipy.stats import chi2_contingency\n",
        "data = {'Schooling_Phase': ['Primary', 'Secondary', 'Primary', 'Secondary', 'Primary'],\n",
        "        'Ball_based': [20, 40, 25, 30, 35],\n",
        "        'Team_based_sport': [25, 30, 40, 25, 30],\n",
        "        'Physically_intense': [35, 20, 30, 40, 20]}\n",
        "myFrame = pandas.DataFrame(data)\n",
        "contingency_table = pandas.crosstab(myFrame['Schooling_Phase'],\n",
        "                                 [myFrame['Ball_based'], myFrame['Team_based_sport'], myFrame['Physically_intense']])\n",
        "chi2, p, dof, expected = chi2_contingency(contingency_table)\n",
        "\n",
        "print(\"Chi-Square Statistic:\", chi2)\n",
        "print(\"p-value:\", p)\n",
        "print(\"Degrees of Freedom:\", dof)\n",
        "print(\"Expected Frequencies Table:\")\n",
        "print(expected)\n"
      ],
      "metadata": {
        "colab": {
          "base_uri": "https://localhost:8080/"
        },
        "id": "j1uwE8QEejbt",
        "outputId": "9b537c59-6274-4cb7-943d-8f400eae3e64"
      },
      "execution_count": 2,
      "outputs": [
        {
          "output_type": "stream",
          "name": "stdout",
          "text": [
            "Chi-Square Statistic: 5.0\n",
            "p-value: 0.2872974951836458\n",
            "Degrees of Freedom: 4\n",
            "Expected Frequencies Table:\n",
            "[[0.6 0.6 0.6 0.6 0.6]\n",
            " [0.4 0.4 0.4 0.4 0.4]]\n"
          ]
        }
      ]
    },
    {
      "cell_type": "code",
      "source": [
        "from scipy.stats import ttest_ind\n",
        "data = {'Time_Spent_Gaming': [4, 9, 8, 6, 4, 5, 4, 4, 2, 5, 7, 7, 3, 5, 5],\n",
        "        'Creativity_Level': [8, 7, 9, 5, 6, 7, 5, 6, 3, 4, 9, 6, 6, 7, 4]}\n",
        "myFrame = pandas.DataFrame(data)\n",
        "group1 = myFrame[myFrame.index < 7]['Creativity_Level']\n",
        "group2 = myFrame[myFrame.index >= 7]['Creativity_Level']\n",
        "t_statistic, p_value = ttest_ind(group1, group2)\n",
        "\n",
        "print(\"t-statistic:\", t_statistic)\n",
        "print(\"p-value:\", p_value)\n"
      ],
      "metadata": {
        "colab": {
          "base_uri": "https://localhost:8080/"
        },
        "id": "62bOUThHeuZh",
        "outputId": "b6f248c4-d0a3-4965-b479-9a0dab654055"
      },
      "execution_count": 3,
      "outputs": [
        {
          "output_type": "stream",
          "name": "stdout",
          "text": [
            "t-statistic: 1.210447228426874\n",
            "p-value: 0.24765608033223466\n"
          ]
        }
      ]
    },
    {
      "cell_type": "code",
      "source": [
        "from scipy.stats import ttest_rel\n",
        "data = {'Before_Intervention': [7, 8, 6, 6, 6, 9, 5, 3, 4, 6, 9, 6, 9, 5, 3, 4, 6, 7, 8, 6],\n",
        "        'After_Intervention': [7, 4, 2, 3, 1, 4, 3, 5, 4, 3, 6, 3, 4, 3, 5, 4, 3, 7, 4, 2]}\n",
        "myFrame = pandas.DataFrame(data)\n",
        "t_statistic, p_value = ttest_rel(myFrame['Before_Intervention'], myFrame['After_Intervention'])\n",
        "print(\"t-statistic:\", t_statistic)\n",
        "print(\"p-value:\", p_value)\n"
      ],
      "metadata": {
        "colab": {
          "base_uri": "https://localhost:8080/"
        },
        "id": "HrR9gs2qeyho",
        "outputId": "87ec0697-6e16-47e4-f67e-484c74e498da"
      },
      "execution_count": 4,
      "outputs": [
        {
          "output_type": "stream",
          "name": "stdout",
          "text": [
            "t-statistic: 4.619491612730228\n",
            "p-value: 0.00018702985478193766\n"
          ]
        }
      ]
    }
  ]
}